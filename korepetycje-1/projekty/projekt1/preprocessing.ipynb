{
 "cells": [
  {
   "cell_type": "code",
   "execution_count": 11,
   "id": "2e50fe79",
   "metadata": {},
   "outputs": [],
   "source": [
    "import pandas as pd\n",
    "from sklearn.preprocessing import StandardScaler"
   ]
  },
  {
   "cell_type": "code",
   "execution_count": 12,
   "id": "1dad39d7",
   "metadata": {},
   "outputs": [],
   "source": [
    "#Data loading\n",
    "file_path = 'E:\\\\korepetycje_Jakub_Bozek\\\\korepetycje-1\\\\projekty\\\\projekt1\\\\Descriptors.xlsx'\n",
    "data = pd.read_excel(file_path)\n"
   ]
  },
  {
   "cell_type": "code",
   "execution_count": 13,
   "id": "96e6fdf4",
   "metadata": {},
   "outputs": [
    {
     "name": "stdout",
     "output_type": "stream",
     "text": [
      "<class 'pandas.core.frame.DataFrame'>\n",
      "RangeIndex: 20 entries, 0 to 19\n",
      "Columns: 211 entries, Name to fr_urea\n",
      "dtypes: float64(103), int64(107), object(1)\n",
      "memory usage: 33.1+ KB\n",
      "None\n",
      "       MaxAbsEStateIndex  MaxEStateIndex  ...  fr_unbrch_alkane  fr_urea\n",
      "count          20.000000       20.000000  ...         20.000000     20.0\n",
      "mean            8.587107        8.587107  ...          0.250000      0.0\n",
      "std             2.557957        2.557957  ...          0.638666      0.0\n",
      "min             5.174287        5.174287  ...          0.000000      0.0\n",
      "25%             6.061779        6.061779  ...          0.000000      0.0\n",
      "50%             9.315445        9.315445  ...          0.000000      0.0\n",
      "75%            10.475857       10.475857  ...          0.000000      0.0\n",
      "max            12.455509       12.455509  ...          2.000000      0.0\n",
      "\n",
      "[8 rows x 210 columns]\n"
     ]
    }
   ],
   "source": [
    "#Basic informations\n",
    "print(data.info())\n",
    "print(data.describe())"
   ]
  },
  {
   "cell_type": "code",
   "execution_count": 14,
   "id": "29334797",
   "metadata": {},
   "outputs": [],
   "source": [
    "#Data cleansing\n",
    "data = data.dropna()\n"
   ]
  },
  {
   "cell_type": "code",
   "execution_count": 15,
   "id": "118ad8b1",
   "metadata": {},
   "outputs": [],
   "source": [
    "#Removal of columns with zero standard deviation\n",
    "\n",
    "numeric_data = data.select_dtypes(include = ['number'])\n",
    "std_deviation = numeric_data.std()\n",
    "columns_to_drop = std_deviation[std_deviation == 0].index\n",
    "data = data.drop(columns = columns_to_drop)\n",
    "\n"
   ]
  },
  {
   "cell_type": "code",
   "execution_count": 16,
   "id": "31bc1fed",
   "metadata": {},
   "outputs": [],
   "source": [
    "#Identification and removal of outliers (3 sigma rule)\n",
    "numeric_data = data.select_dtypes(include=['number'])"
   ]
  },
  {
   "cell_type": "code",
   "execution_count": 18,
   "id": "688c8c9c",
   "metadata": {},
   "outputs": [
    {
     "name": "stdout",
     "output_type": "stream",
     "text": [
      "Shape of data before outliers removal: (20, 148)\n"
     ]
    }
   ],
   "source": [
    "print(\"Shape of data before outliers removal:\", data.shape)"
   ]
  },
  {
   "cell_type": "code",
   "execution_count": 19,
   "id": "1f5fc758",
   "metadata": {},
   "outputs": [],
   "source": [
    "for col in numeric_data.columns:\n",
    "    mean = numeric_data[col].mean()\n",
    "    std = numeric_data[col].std()\n",
    "    lower_bound = mean - 3 * std\n",
    "    upper_bound = mean + 3 * std\n",
    "    data = data[(data[col] >= lower_bound) & (data[col] <= upper_bound)]"
   ]
  },
  {
   "cell_type": "code",
   "execution_count": 20,
   "id": "25e53406",
   "metadata": {},
   "outputs": [
    {
     "name": "stdout",
     "output_type": "stream",
     "text": [
      "Shape of data after outliers removal: (14, 148)\n"
     ]
    }
   ],
   "source": [
    "print(\"Shape of data after outliers removal:\", data.shape)"
   ]
  },
  {
   "cell_type": "code",
   "execution_count": 22,
   "id": "0370b192",
   "metadata": {},
   "outputs": [],
   "source": [
    "# Data normalization\n",
    "\n",
    "numeric_data = data.select_dtypes(include = ['number'])\n",
    "scaler = StandardScaler()\n",
    "data_normalized = pd.DataFrame(scaler.fit_transform(numeric_data), columns = numeric_data.columns)"
   ]
  },
  {
   "cell_type": "code",
   "execution_count": 23,
   "id": "e02469ce",
   "metadata": {},
   "outputs": [
    {
     "name": "stdout",
     "output_type": "stream",
     "text": [
      "The shape of the data after normalization: (14, 147)\n",
      "   MaxAbsEStateIndex  MaxEStateIndex  ...  fr_thiazole  fr_unbrch_alkane\n",
      "0           1.324173        1.324173  ...     -0.27735         -0.497519\n",
      "1          -1.246825       -1.246825  ...     -0.27735          2.288586\n",
      "2          -1.261681       -1.261681  ...     -0.27735          0.895533\n",
      "3          -0.052493       -0.052493  ...     -0.27735         -0.497519\n",
      "4          -1.008438       -1.008438  ...     -0.27735         -0.497519\n",
      "\n",
      "[5 rows x 147 columns]\n"
     ]
    }
   ],
   "source": [
    "#Score\n",
    "print(\"The shape of the data after normalization:\", data_normalized.shape)\n",
    "print(data_normalized.head())\n",
    "\n"
   ]
  }
 ],
 "metadata": {
  "kernelspec": {
   "display_name": "Python 3",
   "language": "python",
   "name": "python3"
  },
  "language_info": {
   "codemirror_mode": {
    "name": "ipython",
    "version": 3
   },
   "file_extension": ".py",
   "mimetype": "text/x-python",
   "name": "python",
   "nbconvert_exporter": "python",
   "pygments_lexer": "ipython3",
   "version": "3.13.3"
  }
 },
 "nbformat": 4,
 "nbformat_minor": 5
}
